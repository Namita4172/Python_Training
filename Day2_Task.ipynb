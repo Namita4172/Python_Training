{
 "cells": [
  {
   "cell_type": "code",
   "execution_count": null,
   "id": "dbbb4568",
   "metadata": {},
   "outputs": [],
   "source": [
    "#comments starts with # in python"
   ]
  },
  {
   "cell_type": "code",
   "execution_count": null,
   "id": "dc0819c2",
   "metadata": {},
   "outputs": [],
   "source": [
    "#understanding variables"
   ]
  },
  {
   "cell_type": "code",
   "execution_count": 1,
   "id": "fdda916c",
   "metadata": {},
   "outputs": [],
   "source": [
    "a=10\n",
    "b=20"
   ]
  },
  {
   "cell_type": "code",
   "execution_count": 2,
   "id": "d8d9296b",
   "metadata": {},
   "outputs": [
    {
     "name": "stdout",
     "output_type": "stream",
     "text": [
      "30\n"
     ]
    }
   ],
   "source": [
    "c=a+b\n",
    "print(c)"
   ]
  },
  {
   "cell_type": "code",
   "execution_count": null,
   "id": "8e15cc6b",
   "metadata": {},
   "outputs": [],
   "source": [
    "#rules for declaring variable"
   ]
  },
  {
   "cell_type": "code",
   "execution_count": 3,
   "id": "da53c6db",
   "metadata": {},
   "outputs": [
    {
     "ename": "SyntaxError",
     "evalue": "invalid syntax (<ipython-input-3-3a774c48c7d3>, line 2)",
     "output_type": "error",
     "traceback": [
      "\u001b[1;36m  File \u001b[1;32m\"<ipython-input-3-3a774c48c7d3>\"\u001b[1;36m, line \u001b[1;32m2\u001b[0m\n\u001b[1;33m    first name='Namita'\u001b[0m\n\u001b[1;37m          ^\u001b[0m\n\u001b[1;31mSyntaxError\u001b[0m\u001b[1;31m:\u001b[0m invalid syntax\n"
     ]
    }
   ],
   "source": [
    "#1. while declaring variable no namespace is given.\n",
    "first name='Namita'"
   ]
  },
  {
   "cell_type": "code",
   "execution_count": 4,
   "id": "702bd30e",
   "metadata": {},
   "outputs": [],
   "source": [
    "firstname='Namita'"
   ]
  },
  {
   "cell_type": "code",
   "execution_count": 5,
   "id": "38031868",
   "metadata": {},
   "outputs": [
    {
     "ename": "SyntaxError",
     "evalue": "invalid syntax (<ipython-input-5-ebc67466723d>, line 2)",
     "output_type": "error",
     "traceback": [
      "\u001b[1;36m  File \u001b[1;32m\"<ipython-input-5-ebc67466723d>\"\u001b[1;36m, line \u001b[1;32m2\u001b[0m\n\u001b[1;33m    1name='Namita'\u001b[0m\n\u001b[1;37m     ^\u001b[0m\n\u001b[1;31mSyntaxError\u001b[0m\u001b[1;31m:\u001b[0m invalid syntax\n"
     ]
    }
   ],
   "source": [
    "#2. variable name should not start with number.\n",
    "1name='Namita'"
   ]
  },
  {
   "cell_type": "code",
   "execution_count": 6,
   "id": "b828b402",
   "metadata": {},
   "outputs": [],
   "source": [
    "first1name='namita'\n",
    "firstname1='namita'"
   ]
  },
  {
   "cell_type": "code",
   "execution_count": 7,
   "id": "e9175069",
   "metadata": {},
   "outputs": [
    {
     "ename": "SyntaxError",
     "evalue": "invalid syntax (<ipython-input-7-468071f45524>, line 1)",
     "output_type": "error",
     "traceback": [
      "\u001b[1;36m  File \u001b[1;32m\"<ipython-input-7-468071f45524>\"\u001b[1;36m, line \u001b[1;32m1\u001b[0m\n\u001b[1;33m    variable name should not contain any special character.\u001b[0m\n\u001b[1;37m             ^\u001b[0m\n\u001b[1;31mSyntaxError\u001b[0m\u001b[1;31m:\u001b[0m invalid syntax\n"
     ]
    }
   ],
   "source": [
    "variable name should not contain any special character.\n",
    "name$ = 'namita'"
   ]
  },
  {
   "cell_type": "code",
   "execution_count": 8,
   "id": "8dca85b0",
   "metadata": {},
   "outputs": [
    {
     "ename": "SyntaxError",
     "evalue": "invalid syntax (<ipython-input-8-73f7668a2efd>, line 1)",
     "output_type": "error",
     "traceback": [
      "\u001b[1;36m  File \u001b[1;32m\"<ipython-input-8-73f7668a2efd>\"\u001b[1;36m, line \u001b[1;32m1\u001b[0m\n\u001b[1;33m    first$name='namita'\u001b[0m\n\u001b[1;37m         ^\u001b[0m\n\u001b[1;31mSyntaxError\u001b[0m\u001b[1;31m:\u001b[0m invalid syntax\n"
     ]
    }
   ],
   "source": [
    "first$name='namita'"
   ]
  },
  {
   "cell_type": "code",
   "execution_count": null,
   "id": "d33d828e",
   "metadata": {},
   "outputs": [],
   "source": []
  },
  {
   "cell_type": "markdown",
   "id": "9dd903ef",
   "metadata": {},
   "source": []
  },
  {
   "cell_type": "code",
   "execution_count": 9,
   "id": "b4f92f3a",
   "metadata": {
    "scrolled": true
   },
   "outputs": [
    {
     "ename": "SyntaxError",
     "evalue": "invalid syntax (<ipython-input-9-60a7a11070ba>, line 1)",
     "output_type": "error",
     "traceback": [
      "\u001b[1;36m  File \u001b[1;32m\"<ipython-input-9-60a7a11070ba>\"\u001b[1;36m, line \u001b[1;32m1\u001b[0m\n\u001b[1;33m    firstname& = 'namita'\u001b[0m\n\u001b[1;37m               ^\u001b[0m\n\u001b[1;31mSyntaxError\u001b[0m\u001b[1;31m:\u001b[0m invalid syntax\n"
     ]
    }
   ],
   "source": [
    "firstname& = 'namita'"
   ]
  },
  {
   "cell_type": "code",
   "execution_count": 10,
   "id": "6e8daf0a",
   "metadata": {},
   "outputs": [],
   "source": [
    "#declaration of string in different ways\n",
    "firstname=\"Namita\"\n",
    "lastname=\"\"\"Namita\"\"\""
   ]
  },
  {
   "cell_type": "code",
   "execution_count": 11,
   "id": "545681f9",
   "metadata": {},
   "outputs": [
    {
     "name": "stdout",
     "output_type": "stream",
     "text": [
      "Namita\n",
      "Namita\n"
     ]
    }
   ],
   "source": [
    "print(firstname)\n",
    "print(lastname)"
   ]
  },
  {
   "cell_type": "code",
   "execution_count": 14,
   "id": "c8b1d297",
   "metadata": {},
   "outputs": [
    {
     "data": {
      "text/plain": [
       "str"
      ]
     },
     "execution_count": 14,
     "metadata": {},
     "output_type": "execute_result"
    }
   ],
   "source": [
    "#string method\n",
    "type(firstname)"
   ]
  },
  {
   "cell_type": "code",
   "execution_count": 12,
   "id": "bd3c996f",
   "metadata": {},
   "outputs": [
    {
     "name": "stdout",
     "output_type": "stream",
     "text": [
      "10\n"
     ]
    }
   ],
   "source": [
    "#different datatypes\n",
    "a=10\n",
    "print(a)"
   ]
  },
  {
   "cell_type": "code",
   "execution_count": 13,
   "id": "bcb3c2ae",
   "metadata": {},
   "outputs": [
    {
     "name": "stdout",
     "output_type": "stream",
     "text": [
      "10.786\n"
     ]
    }
   ],
   "source": [
    "num=10.786\n",
    "print(num)"
   ]
  },
  {
   "cell_type": "code",
   "execution_count": 15,
   "id": "aeb2d9bf",
   "metadata": {},
   "outputs": [
    {
     "data": {
      "text/plain": [
       "int"
      ]
     },
     "execution_count": 15,
     "metadata": {},
     "output_type": "execute_result"
    }
   ],
   "source": [
    "type(a)"
   ]
  },
  {
   "cell_type": "code",
   "execution_count": 16,
   "id": "51a87223",
   "metadata": {},
   "outputs": [
    {
     "data": {
      "text/plain": [
       "float"
      ]
     },
     "execution_count": 16,
     "metadata": {},
     "output_type": "execute_result"
    }
   ],
   "source": [
    "type(num)"
   ]
  },
  {
   "cell_type": "code",
   "execution_count": null,
   "id": "5016e525",
   "metadata": {},
   "outputs": [],
   "source": []
  }
 ],
 "metadata": {
  "kernelspec": {
   "display_name": "Python 3",
   "language": "python",
   "name": "python3"
  },
  "language_info": {
   "codemirror_mode": {
    "name": "ipython",
    "version": 3
   },
   "file_extension": ".py",
   "mimetype": "text/x-python",
   "name": "python",
   "nbconvert_exporter": "python",
   "pygments_lexer": "ipython3",
   "version": "3.8.8"
  }
 },
 "nbformat": 4,
 "nbformat_minor": 5
}
