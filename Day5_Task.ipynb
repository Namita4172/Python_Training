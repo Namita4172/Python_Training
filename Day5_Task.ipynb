{
 "cells": [
  {
   "cell_type": "code",
   "execution_count": 1,
   "id": "2422043b",
   "metadata": {},
   "outputs": [
    {
     "name": "stdout",
     "output_type": "stream",
     "text": [
      "['Kia', 'i10', 'i20', 'swift', 'maruti']\n"
     ]
    },
    {
     "data": {
      "text/plain": [
       "list"
      ]
     },
     "execution_count": 1,
     "metadata": {},
     "output_type": "execute_result"
    }
   ],
   "source": [
    "#organizing List data type\n",
    "cars_data= ['Kia','i10','i20','swift','maruti']\n",
    "print(cars_data)\n",
    "type(cars_data)"
   ]
  },
  {
   "cell_type": "code",
   "execution_count": 2,
   "id": "a64e8ef6",
   "metadata": {},
   "outputs": [
    {
     "name": "stdout",
     "output_type": "stream",
     "text": [
      "['Kia', 'i10', 'i20', 'maruti', 'swift']\n"
     ]
    }
   ],
   "source": [
    "#Arrange List content in alphabetically order\n",
    "#1. temprorary approach - sorted(). original list remains same\n",
    "\n",
    "print(sorted(cars_data))"
   ]
  },
  {
   "cell_type": "code",
   "execution_count": 3,
   "id": "40e1f1e0",
   "metadata": {},
   "outputs": [
    {
     "name": "stdout",
     "output_type": "stream",
     "text": [
      "['Kia', 'i10', 'i20', 'swift', 'maruti']\n"
     ]
    }
   ],
   "source": [
    "print(cars_data)"
   ]
  },
  {
   "cell_type": "code",
   "execution_count": 4,
   "id": "7cf617d3",
   "metadata": {},
   "outputs": [
    {
     "name": "stdout",
     "output_type": "stream",
     "text": [
      "['Kia', 'i10', 'i20', 'maruti', 'swift']\n"
     ]
    }
   ],
   "source": [
    "#2. Permanent approach - sort. Original list changes.\n",
    "cars_data.sort()\n",
    "print(cars_data)"
   ]
  },
  {
   "cell_type": "code",
   "execution_count": 5,
   "id": "c656f6b4",
   "metadata": {},
   "outputs": [
    {
     "name": "stdout",
     "output_type": "stream",
     "text": [
      "['Kia', 'i10', 'i20', 'maruti', 'swift']\n"
     ]
    }
   ],
   "source": [
    "print(cars_data)"
   ]
  },
  {
   "cell_type": "code",
   "execution_count": 6,
   "id": "57641900",
   "metadata": {},
   "outputs": [
    {
     "name": "stdout",
     "output_type": "stream",
     "text": [
      "['swift', 'maruti', 'i20', 'i10', 'Kia']\n"
     ]
    }
   ],
   "source": [
    "#reverse order - reverse(). This method makes permanent changes in list\n",
    "cars_data.reverse()\n",
    "print(cars_data)"
   ]
  },
  {
   "cell_type": "code",
   "execution_count": 7,
   "id": "ea532f62",
   "metadata": {},
   "outputs": [
    {
     "data": {
      "text/plain": [
       "5"
      ]
     },
     "execution_count": 7,
     "metadata": {},
     "output_type": "execute_result"
    }
   ],
   "source": [
    "# count number of elements in the list- len()\n",
    "len(cars_data)"
   ]
  },
  {
   "cell_type": "code",
   "execution_count": 8,
   "id": "da5f5ac5",
   "metadata": {},
   "outputs": [
    {
     "name": "stdout",
     "output_type": "stream",
     "text": [
      "['swift', 'maruti', 'i20', 'i10', 'Kia']\n"
     ]
    }
   ],
   "source": [
    "#slicing of list\n",
    "#req1. cars_data slices into different parts where first two carswill be in one slice.\n",
    "print(cars_data)"
   ]
  },
  {
   "cell_type": "code",
   "execution_count": 9,
   "id": "b8b73b87",
   "metadata": {},
   "outputs": [
    {
     "name": "stdout",
     "output_type": "stream",
     "text": [
      "['swift', 'maruti']\n"
     ]
    }
   ],
   "source": [
    "#swift and maruti will be in one group\n",
    "print(cars_data[0:2])"
   ]
  },
  {
   "cell_type": "code",
   "execution_count": 10,
   "id": "61d017a2",
   "metadata": {},
   "outputs": [
    {
     "name": "stdout",
     "output_type": "stream",
     "text": [
      "['i20', 'i10']\n"
     ]
    }
   ],
   "source": [
    "#i20 and i10 will be in one group\n",
    "print(cars_data[2:4])"
   ]
  },
  {
   "cell_type": "code",
   "execution_count": 11,
   "id": "ed99768a",
   "metadata": {},
   "outputs": [
    {
     "name": "stdout",
     "output_type": "stream",
     "text": [
      "['Kia']\n"
     ]
    }
   ],
   "source": [
    "#Kia will be in one group\n",
    "print(cars_data[4:5])"
   ]
  },
  {
   "cell_type": "code",
   "execution_count": 12,
   "id": "a16c9410",
   "metadata": {},
   "outputs": [],
   "source": [
    "# Add one more member to the list.\n",
    "cars_data.append('benz')"
   ]
  },
  {
   "cell_type": "code",
   "execution_count": 13,
   "id": "0e2d5cf5",
   "metadata": {},
   "outputs": [
    {
     "name": "stdout",
     "output_type": "stream",
     "text": [
      "['swift', 'maruti', 'i20', 'i10', 'Kia', 'benz']\n"
     ]
    }
   ],
   "source": [
    "print(cars_data)"
   ]
  },
  {
   "cell_type": "raw",
   "id": "3d20c15a",
   "metadata": {},
   "source": []
  },
  {
   "cell_type": "code",
   "execution_count": 14,
   "id": "0268b361",
   "metadata": {},
   "outputs": [
    {
     "name": "stdout",
     "output_type": "stream",
     "text": [
      "['Kia', 'benz']\n"
     ]
    }
   ],
   "source": [
    "#Kia and benz will be in one group\n",
    "print(cars_data[4:6])"
   ]
  },
  {
   "cell_type": "code",
   "execution_count": 15,
   "id": "dbf55cba",
   "metadata": {},
   "outputs": [
    {
     "name": "stdout",
     "output_type": "stream",
     "text": [
      "['swift', 'i20', 'Kia']\n",
      "['maruti', 'i10', 'benz']\n"
     ]
    }
   ],
   "source": [
    "#slice the list in odd elements and even elements - list has even elements\n",
    "print(cars_data[0:6:2])\n",
    "print(cars_data[1:6:2])"
   ]
  },
  {
   "cell_type": "code",
   "execution_count": 16,
   "id": "082f00fd",
   "metadata": {},
   "outputs": [
    {
     "name": "stdout",
     "output_type": "stream",
     "text": [
      "['swift', 'maruti', 'i20', 'i10', 'Kia', 'benz']\n"
     ]
    }
   ],
   "source": [
    "print(cars_data)"
   ]
  },
  {
   "cell_type": "code",
   "execution_count": 17,
   "id": "3a2abc53",
   "metadata": {},
   "outputs": [
    {
     "name": "stdout",
     "output_type": "stream",
     "text": [
      "['swift', 'maruti', 'i10', 'Kia', 'benz']\n"
     ]
    }
   ],
   "source": [
    "#delete one member so that list has odd elements.\n",
    "del(cars_data[2])\n",
    "print(cars_data)"
   ]
  },
  {
   "cell_type": "code",
   "execution_count": 18,
   "id": "5f280344",
   "metadata": {},
   "outputs": [
    {
     "name": "stdout",
     "output_type": "stream",
     "text": [
      "['swift', 'i10', 'benz']\n",
      "['maruti', 'Kia']\n"
     ]
    }
   ],
   "source": [
    "#slice the list in odd elements and even elements - list has odd elements\n",
    "print(cars_data[0:5:2])\n",
    "print(cars_data[1:5:2])"
   ]
  },
  {
   "cell_type": "code",
   "execution_count": null,
   "id": "131de373",
   "metadata": {},
   "outputs": [],
   "source": []
  }
 ],
 "metadata": {
  "kernelspec": {
   "display_name": "Python 3",
   "language": "python",
   "name": "python3"
  },
  "language_info": {
   "codemirror_mode": {
    "name": "ipython",
    "version": 3
   },
   "file_extension": ".py",
   "mimetype": "text/x-python",
   "name": "python",
   "nbconvert_exporter": "python",
   "pygments_lexer": "ipython3",
   "version": "3.8.8"
  }
 },
 "nbformat": 4,
 "nbformat_minor": 5
}
