{
 "cells": [
  {
   "cell_type": "code",
   "execution_count": 2,
   "id": "e98edae8",
   "metadata": {},
   "outputs": [
    {
     "name": "stdout",
     "output_type": "stream",
     "text": [
      "234\n",
      "123\n",
      "567\n",
      "234\n",
      "123\n",
      "567\n"
     ]
    }
   ],
   "source": [
    "#introduction to file handling - \n",
    "#read the file - before read the file, upload it on jupyter notebook with the help of upload button.\n",
    "\n",
    "with open(\"numbers.txt\") as f:\n",
    "    con = f.read()\n",
    "    print(con)\n",
    "    \n",
    "f_name = \"numbers.txt\"\n",
    "with open(f_name) as num_fl:\n",
    "    fl_txt = num_fl.read()\n",
    "    print(fl_txt)\n",
    "\n",
    "    "
   ]
  },
  {
   "cell_type": "code",
   "execution_count": 12,
   "id": "22d39d65",
   "metadata": {},
   "outputs": [
    {
     "name": "stdout",
     "output_type": "stream",
     "text": [
      "Python is most popular language\n"
     ]
    }
   ],
   "source": [
    "#write thefile - to write the file, open the file in \"w\" write mode.\n",
    "#in this mode, old data of file get deleted and only new content save.\n",
    "\n",
    "f_name = \"numbers.txt\"\n",
    "\n",
    "with open(f_name, \"w\") as num_fl:\n",
    "    num_fl.write(\"Python is most popular language\")\n",
    "\n",
    "\n",
    "with open(f_name) as num_fl:\n",
    "    fl_txt = num_fl.read()\n",
    "    print(fl_txt)\n"
   ]
  },
  {
   "cell_type": "code",
   "execution_count": 13,
   "id": "398a4a0f",
   "metadata": {},
   "outputs": [
    {
     "name": "stdout",
     "output_type": "stream",
     "text": [
      "Python is most popular language\n",
      "Welcome to Python world\n"
     ]
    }
   ],
   "source": [
    "#append thefile - to append the file, open the file in \"a\" write mode.\n",
    "#in this mode, old data of file remain as it is and new content appended.\n",
    "\n",
    "f_name = \"numbers.txt\"\n",
    "\n",
    "with open(f_name, \"a\") as number_fl:\n",
    "    number_fl.write(\"\\nWelcome to Python world\")\n",
    "\n",
    "\n",
    "with open(f_name) as num_fl:\n",
    "    fl_txt = num_fl.read()\n",
    "    print(fl_txt)\n",
    "\n",
    "\n",
    "    "
   ]
  },
  {
   "cell_type": "code",
   "execution_count": null,
   "id": "8062471c",
   "metadata": {},
   "outputs": [],
   "source": []
  },
  {
   "cell_type": "code",
   "execution_count": null,
   "id": "5c791cf3",
   "metadata": {},
   "outputs": [],
   "source": []
  }
 ],
 "metadata": {
  "kernelspec": {
   "display_name": "Python 3",
   "language": "python",
   "name": "python3"
  },
  "language_info": {
   "codemirror_mode": {
    "name": "ipython",
    "version": 3
   },
   "file_extension": ".py",
   "mimetype": "text/x-python",
   "name": "python",
   "nbconvert_exporter": "python",
   "pygments_lexer": "ipython3",
   "version": "3.8.8"
  }
 },
 "nbformat": 4,
 "nbformat_minor": 5
}
