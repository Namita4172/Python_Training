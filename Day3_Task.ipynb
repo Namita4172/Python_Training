{
 "cells": [
  {
   "cell_type": "code",
   "execution_count": 1,
   "id": "5723735c",
   "metadata": {},
   "outputs": [
    {
     "name": "stdout",
     "output_type": "stream",
     "text": [
      "namita singla\n"
     ]
    }
   ],
   "source": [
    "#string method title() - to convert string into title case\n",
    "name='namita singla'\n",
    "print(name)"
   ]
  },
  {
   "cell_type": "code",
   "execution_count": 2,
   "id": "3b203e0a",
   "metadata": {},
   "outputs": [
    {
     "name": "stdout",
     "output_type": "stream",
     "text": [
      "Namita Singla\n"
     ]
    }
   ],
   "source": [
    "print(name.title())"
   ]
  },
  {
   "cell_type": "code",
   "execution_count": 3,
   "id": "65e2b9e5",
   "metadata": {},
   "outputs": [
    {
     "name": "stdout",
     "output_type": "stream",
     "text": [
      "NAMITA SINGLA\n"
     ]
    }
   ],
   "source": [
    "#upper() - to convert string into upper case\n",
    "print(name.upper())"
   ]
  },
  {
   "cell_type": "code",
   "execution_count": 4,
   "id": "f5ca06d2",
   "metadata": {},
   "outputs": [
    {
     "name": "stdout",
     "output_type": "stream",
     "text": [
      "namita singla\n"
     ]
    }
   ],
   "source": [
    "#lower() - to convert string into lower case\n",
    "print(name.lower())"
   ]
  },
  {
   "cell_type": "code",
   "execution_count": 5,
   "id": "e1918166",
   "metadata": {},
   "outputs": [],
   "source": [
    "#string concatination \n",
    "#introduction to fstrings\n",
    "\n",
    "fname='namita'\n",
    "lname='singla'\n",
    "fullname= f\"{fname}{lname}\""
   ]
  },
  {
   "cell_type": "code",
   "execution_count": 6,
   "id": "a8765add",
   "metadata": {},
   "outputs": [
    {
     "name": "stdout",
     "output_type": "stream",
     "text": [
      "namitasingla\n"
     ]
    }
   ],
   "source": [
    "print(fullname)"
   ]
  },
  {
   "cell_type": "code",
   "execution_count": 7,
   "id": "952f85bb",
   "metadata": {},
   "outputs": [],
   "source": [
    "fname='namita'\n",
    "lname='singla'\n",
    "fullname= f\"{fname} {lname}\""
   ]
  },
  {
   "cell_type": "code",
   "execution_count": 8,
   "id": "0c67fd02",
   "metadata": {},
   "outputs": [
    {
     "name": "stdout",
     "output_type": "stream",
     "text": [
      "Namita Singla\n"
     ]
    }
   ],
   "source": [
    "print(fullname.title())"
   ]
  },
  {
   "cell_type": "code",
   "execution_count": 9,
   "id": "e4ae8cfc",
   "metadata": {},
   "outputs": [
    {
     "ename": "SyntaxError",
     "evalue": "invalid syntax (<ipython-input-9-d1cde95eeac5>, line 5)",
     "output_type": "error",
     "traceback": [
      "\u001b[1;36m  File \u001b[1;32m\"<ipython-input-9-d1cde95eeac5>\"\u001b[1;36m, line \u001b[1;32m5\u001b[0m\n\u001b[1;33m    message= f \"Well done \",{fullname.title()}\u001b[0m\n\u001b[1;37m               ^\u001b[0m\n\u001b[1;31mSyntaxError\u001b[0m\u001b[1;31m:\u001b[0m invalid syntax\n"
     ]
    }
   ],
   "source": [
    "#to concatinate a constant string, constant string mentioned as 1st parameter\n",
    "\n",
    "#e.g. Req-add an appreciation message in front of name\n",
    "\n",
    "message= f \"Well done \",{fullname.title()}\n",
    "print(message)"
   ]
  },
  {
   "cell_type": "code",
   "execution_count": 10,
   "id": "022d12ee",
   "metadata": {},
   "outputs": [
    {
     "ename": "SyntaxError",
     "evalue": "invalid syntax (<ipython-input-10-a3f117bd1d1e>, line 5)",
     "output_type": "error",
     "traceback": [
      "\u001b[1;36m  File \u001b[1;32m\"<ipython-input-10-a3f117bd1d1e>\"\u001b[1;36m, line \u001b[1;32m5\u001b[0m\n\u001b[1;33m    message= f \"Well done ,{fullname.title()}\"\u001b[0m\n\u001b[1;37m               ^\u001b[0m\n\u001b[1;31mSyntaxError\u001b[0m\u001b[1;31m:\u001b[0m invalid syntax\n"
     ]
    }
   ],
   "source": [
    "#to concatinate a constant string, constant string mentioned as 1st parameter\n",
    "\n",
    "#e.g. Req-add an appreciation message in front of name\n",
    "\n",
    "message= f \"Well done ,{fullname.title()}\"\n",
    "print(message)"
   ]
  },
  {
   "cell_type": "code",
   "execution_count": 11,
   "id": "3613eb40",
   "metadata": {},
   "outputs": [
    {
     "name": "stdout",
     "output_type": "stream",
     "text": [
      "Well done,Namita Singla\n"
     ]
    }
   ],
   "source": [
    "message= f\"Well done,{fullname.title()}\"\n",
    "print(message)"
   ]
  },
  {
   "cell_type": "code",
   "execution_count": 12,
   "id": "091fc42f",
   "metadata": {},
   "outputs": [
    {
     "name": "stdout",
     "output_type": "stream",
     "text": [
      "Student_Detail: NameRollnoClassSectionMarks\n"
     ]
    }
   ],
   "source": [
    "#Adding whitespaces to strings\n",
    "#req- Print Student Details\n",
    "\n",
    "print(\"Student_Detail: NameRollnoClassSectionMarks\")"
   ]
  },
  {
   "cell_type": "code",
   "execution_count": 13,
   "id": "a5c77154",
   "metadata": {},
   "outputs": [
    {
     "ename": "SyntaxError",
     "evalue": "unexpected character after line continuation character (<ipython-input-13-4de9ba8abc45>, line 2)",
     "output_type": "error",
     "traceback": [
      "\u001b[1;36m  File \u001b[1;32m\"<ipython-input-13-4de9ba8abc45>\"\u001b[1;36m, line \u001b[1;32m2\u001b[0m\n\u001b[1;33m    \\n - new line delimiter\u001b[0m\n\u001b[1;37m                           ^\u001b[0m\n\u001b[1;31mSyntaxError\u001b[0m\u001b[1;31m:\u001b[0m unexpected character after line continuation character\n"
     ]
    }
   ],
   "source": [
    "#its not readable, to make it readable use delimiters\n",
    "\\n - new line delimiter\n",
    "print(\"Student_Detail: \\nName\\nRollno\\nClass\\nSection\\nMarks\")"
   ]
  },
  {
   "cell_type": "code",
   "execution_count": 14,
   "id": "8de0170c",
   "metadata": {},
   "outputs": [
    {
     "name": "stdout",
     "output_type": "stream",
     "text": [
      "Student_Detail: \n",
      "Name\n",
      "Rollno\n",
      "Class\n",
      "Section\n",
      "Marks\n"
     ]
    }
   ],
   "source": [
    "#its not readable, to make it readable use delimiters\n",
    "#\\n - new line delimiter\n",
    "print(\"Student_Detail: \\nName\\nRollno\\nClass\\nSection\\nMarks\")"
   ]
  },
  {
   "cell_type": "code",
   "execution_count": 15,
   "id": "8906cf8f",
   "metadata": {},
   "outputs": [
    {
     "name": "stdout",
     "output_type": "stream",
     "text": [
      "Student_Detail: \n",
      "\tName\n",
      "\tRollno\n",
      "\tClass\n",
      "\tSection\n",
      "\tMarks\n"
     ]
    }
   ],
   "source": [
    "# \\t - Tab delimiter\n",
    "print(\"Student_Detail: \\n\\tName\\n\\tRollno\\n\\tClass\\n\\tSection\\n\\tMarks\")"
   ]
  },
  {
   "cell_type": "code",
   "execution_count": 16,
   "id": "4e98973a",
   "metadata": {},
   "outputs": [
    {
     "name": "stdout",
     "output_type": "stream",
     "text": [
      "Namita\n",
      "  Namita\n",
      "Namita  \n"
     ]
    }
   ],
   "source": [
    "#Removing Whitwspaces from string\n",
    "name = 'Namita'\n",
    "name1 = '  Namita'\n",
    "name2 = 'Namita  '\n",
    "print(name)\n",
    "print(name1)\n",
    "print(name2)"
   ]
  },
  {
   "cell_type": "code",
   "execution_count": 17,
   "id": "241d9aec",
   "metadata": {},
   "outputs": [
    {
     "name": "stdout",
     "output_type": "stream",
     "text": [
      "Namita\n",
      "Namita\n"
     ]
    }
   ],
   "source": [
    "#lstrip() function to remove left side whitespace\n",
    "print(name1.lstrip())\n",
    "#rstrip() to remove right side  whitespace\n",
    "print(name2.rstrip())"
   ]
  },
  {
   "cell_type": "code",
   "execution_count": 19,
   "id": "bced004f",
   "metadata": {},
   "outputs": [
    {
     "name": "stdout",
     "output_type": "stream",
     "text": [
      "Namita\n"
     ]
    }
   ],
   "source": [
    "#to remove both left and right side spaces strip() is used\n",
    "name3 = '  Namita  '\n",
    "print(name3.strip())"
   ]
  },
  {
   "cell_type": "code",
   "execution_count": 20,
   "id": "ab430c34",
   "metadata": {},
   "outputs": [
    {
     "name": "stdout",
     "output_type": "stream",
     "text": [
      "  Namita Singla  \n"
     ]
    }
   ],
   "source": [
    "#Also strip() does not remove spaces from middle of string\n",
    "name4= '  Namita Singla  '\n",
    "print(name4)"
   ]
  },
  {
   "cell_type": "code",
   "execution_count": 21,
   "id": "ee397287",
   "metadata": {},
   "outputs": [
    {
     "name": "stdout",
     "output_type": "stream",
     "text": [
      "Namita Singla\n"
     ]
    }
   ],
   "source": [
    "print(name4.strip())"
   ]
  },
  {
   "cell_type": "code",
   "execution_count": null,
   "id": "4b79f411",
   "metadata": {},
   "outputs": [],
   "source": []
  }
 ],
 "metadata": {
  "kernelspec": {
   "display_name": "Python 3",
   "language": "python",
   "name": "python3"
  },
  "language_info": {
   "codemirror_mode": {
    "name": "ipython",
    "version": 3
   },
   "file_extension": ".py",
   "mimetype": "text/x-python",
   "name": "python",
   "nbconvert_exporter": "python",
   "pygments_lexer": "ipython3",
   "version": "3.8.8"
  }
 },
 "nbformat": 4,
 "nbformat_minor": 5
}
