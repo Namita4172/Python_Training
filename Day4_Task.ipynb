{
 "cells": [
  {
   "cell_type": "code",
   "execution_count": 1,
   "id": "8bd0d82b",
   "metadata": {},
   "outputs": [
    {
     "name": "stdout",
     "output_type": "stream",
     "text": [
      "['Namita', 'Mukesh', 'Reena', 'Palak', 'Divisha']\n"
     ]
    }
   ],
   "source": [
    "#List datatype\n",
    "#List represented in []\n",
    "employee_names=['Namita','Mukesh','Reena','Palak','Divisha']\n",
    "print(employee_names)"
   ]
  },
  {
   "cell_type": "code",
   "execution_count": 2,
   "id": "609056bd",
   "metadata": {},
   "outputs": [
    {
     "data": {
      "text/plain": [
       "list"
      ]
     },
     "execution_count": 2,
     "metadata": {},
     "output_type": "execute_result"
    }
   ],
   "source": [
    "type(employee_names)"
   ]
  },
  {
   "cell_type": "code",
   "execution_count": 3,
   "id": "415113b1",
   "metadata": {},
   "outputs": [
    {
     "name": "stdout",
     "output_type": "stream",
     "text": [
      "Mukesh\n"
     ]
    }
   ],
   "source": [
    "#to access the elements from list, indexing is used. index starts from 0,1,2.... first member of list is accessby index 0.\n",
    "#req - to access second member of list\n",
    "print(employee_names[1])"
   ]
  },
  {
   "cell_type": "code",
   "execution_count": 4,
   "id": "e423acbd",
   "metadata": {},
   "outputs": [],
   "source": [
    "# To add new elements in the list, append() is used.\n",
    "#it appends new element at the end of list\n",
    "employee_names.append('Ravi')"
   ]
  },
  {
   "cell_type": "code",
   "execution_count": 5,
   "id": "3d180186",
   "metadata": {},
   "outputs": [
    {
     "name": "stdout",
     "output_type": "stream",
     "text": [
      "['Namita', 'Mukesh', 'Reena', 'Palak', 'Divisha', 'Ravi']\n"
     ]
    }
   ],
   "source": [
    "print(employee_names)"
   ]
  },
  {
   "cell_type": "code",
   "execution_count": 6,
   "id": "dd5a2381",
   "metadata": {},
   "outputs": [
    {
     "name": "stdout",
     "output_type": "stream",
     "text": [
      "['Namita', 'Mukesh', 'Reena', 'Anil', 'Palak', 'Divisha', 'Ravi']\n"
     ]
    }
   ],
   "source": [
    "#To add new member at a particular index, append() is used\n",
    "#to add 'Anil' at a index 3 \n",
    "employee_names.insert(3,'Anil')\n",
    "print(employee_names)"
   ]
  },
  {
   "cell_type": "code",
   "execution_count": 7,
   "id": "12b32b99",
   "metadata": {},
   "outputs": [
    {
     "name": "stdout",
     "output_type": "stream",
     "text": [
      "['Namita', 'Mukesh', 'Meena', 'Anil', 'Palak', 'Divisha', 'Ravi']\n"
     ]
    }
   ],
   "source": [
    "# to modify elements in the list\n",
    "#replace 'Reena' to 'Meena' in the list\n",
    "employee_names[2]='Meena'\n",
    "print(employee_names)\n"
   ]
  },
  {
   "cell_type": "code",
   "execution_count": 8,
   "id": "d45ed4be",
   "metadata": {},
   "outputs": [
    {
     "name": "stdout",
     "output_type": "stream",
     "text": [
      "['Namita', 'Mukesh', 'Meena', 'Palak', 'Divisha', 'Ravi']\n"
     ]
    }
   ],
   "source": [
    "#Delete the elements from the list\n",
    "#to delete 'Anil' from the list\n",
    "del employee_names[3]\n",
    "print(employee_names)"
   ]
  },
  {
   "cell_type": "code",
   "execution_count": null,
   "id": "877f50f3",
   "metadata": {},
   "outputs": [],
   "source": []
  }
 ],
 "metadata": {
  "kernelspec": {
   "display_name": "Python 3",
   "language": "python",
   "name": "python3"
  },
  "language_info": {
   "codemirror_mode": {
    "name": "ipython",
    "version": 3
   },
   "file_extension": ".py",
   "mimetype": "text/x-python",
   "name": "python",
   "nbconvert_exporter": "python",
   "pygments_lexer": "ipython3",
   "version": "3.8.8"
  }
 },
 "nbformat": 4,
 "nbformat_minor": 5
}
