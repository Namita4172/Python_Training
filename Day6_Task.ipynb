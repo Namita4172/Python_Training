{
 "cells": [
  {
   "cell_type": "code",
   "execution_count": 1,
   "id": "8ea64c01",
   "metadata": {},
   "outputs": [
    {
     "name": "stdout",
     "output_type": "stream",
     "text": [
      "['Namita', 'Palak', 'Geeta', 'Ram', 'Divisha', 'Mohan']\n"
     ]
    },
    {
     "data": {
      "text/plain": [
       "list"
      ]
     },
     "execution_count": 1,
     "metadata": {},
     "output_type": "execute_result"
    }
   ],
   "source": [
    "#introduction to looping structure\n",
    "\n",
    "students_data=['Namita','Palak','Geeta','Ram','Divisha','Mohan']\n",
    "print(students_data)\n",
    "type(students_data)"
   ]
  },
  {
   "cell_type": "code",
   "execution_count": 2,
   "id": "dbef38f6",
   "metadata": {},
   "outputs": [
    {
     "name": "stdout",
     "output_type": "stream",
     "text": [
      "Keep up good work,Namita\n",
      "Keep up good work,Palak\n",
      "Keep up good work,Geeta\n",
      "Keep up good work,Ram\n",
      "Keep up good work,Divisha\n",
      "Keep up good work,Mohan\n"
     ]
    }
   ],
   "source": [
    "#Req- Appreciate all the students in the list\n",
    "print(f\"Keep up good work,{students_data[0].title()}\")\n",
    "print(f\"Keep up good work,{students_data[1].title()}\")\n",
    "'print(f\"Keep up good work,{students_data[2].title()}\")\n",
    "print(f\"Keep up good work,{students_data[3].title()}\")\n",
    "print(f\"Keep up good work,{students_data[4].title()}\")\n",
    "print(f\"Keep up good work,{students_data[5].title()}\")"
   ]
  },
  {
   "cell_type": "code",
   "execution_count": 3,
   "id": "1deb6ff9",
   "metadata": {},
   "outputs": [
    {
     "name": "stdout",
     "output_type": "stream",
     "text": [
      "Keep up good work, Namita\n",
      "Keep up good work, Palak\n",
      "Keep up good work, Geeta\n",
      "Keep up good work, Ram\n",
      "Keep up good work, Divisha\n",
      "Keep up good work, Mohan\n"
     ]
    }
   ],
   "source": [
    "# The correct way to perform the same work on all members of list, we use looping structure\n",
    "\n",
    "for temp_student in students_data:\n",
    "    print(f\"Keep up good work, {temp_student.title()}\")"
   ]
  },
  {
   "cell_type": "code",
   "execution_count": 4,
   "id": "293507b7",
   "metadata": {},
   "outputs": [
    {
     "name": "stdout",
     "output_type": "stream",
     "text": [
      "Keep up good work, Namita\n",
      "Peform daily tasks, Namita\n",
      "Keep up good work, Palak\n",
      "Peform daily tasks, Palak\n",
      "Keep up good work, Geeta\n",
      "Peform daily tasks, Geeta\n",
      "Keep up good work, Ram\n",
      "Peform daily tasks, Ram\n",
      "Keep up good work, Divisha\n",
      "Peform daily tasks, Divisha\n",
      "Keep up good work, Mohan\n",
      "Peform daily tasks, Mohan\n"
     ]
    }
   ],
   "source": [
    "#to perform all activity on all members of list, write in indented block\n",
    "for temp_student in students_data:\n",
    "    print(f\"Keep up good work, {temp_student.title()}\")\n",
    "    print(f\"Peform daily tasks, {temp_student.title()}\")"
   ]
  },
  {
   "cell_type": "code",
   "execution_count": 5,
   "id": "1df20d37",
   "metadata": {},
   "outputs": [
    {
     "name": "stdout",
     "output_type": "stream",
     "text": [
      "Keep up good work, Namita\n",
      "Peform daily tasks, Namita\n",
      "\n",
      "Keep up good work, Palak\n",
      "Peform daily tasks, Palak\n",
      "\n",
      "Keep up good work, Geeta\n",
      "Peform daily tasks, Geeta\n",
      "\n",
      "Keep up good work, Ram\n",
      "Peform daily tasks, Ram\n",
      "\n",
      "Keep up good work, Divisha\n",
      "Peform daily tasks, Divisha\n",
      "\n",
      "Keep up good work, Mohan\n",
      "Peform daily tasks, Mohan\n",
      "\n",
      "Thanks for attending classes\n"
     ]
    }
   ],
   "source": [
    "# for enhancing code readablity use\\n\n",
    "# to write a message outside the loop, write it out of indented block\n",
    "for temp_student in students_data:\n",
    "    print(f\"Keep up good work, {temp_student.title()}\")\n",
    "    print(f\"Peform daily tasks, {temp_student.title()}\\n\")\n",
    "print(\"Thanks for attending classes\")"
   ]
  },
  {
   "cell_type": "code",
   "execution_count": null,
   "id": "2cd364f4",
   "metadata": {},
   "outputs": [],
   "source": []
  }
 ],
 "metadata": {
  "kernelspec": {
   "display_name": "Python 3",
   "language": "python",
   "name": "python3"
  },
  "language_info": {
   "codemirror_mode": {
    "name": "ipython",
    "version": 3
   },
   "file_extension": ".py",
   "mimetype": "text/x-python",
   "name": "python",
   "nbconvert_exporter": "python",
   "pygments_lexer": "ipython3",
   "version": "3.8.8"
  }
 },
 "nbformat": 4,
 "nbformat_minor": 5
}
