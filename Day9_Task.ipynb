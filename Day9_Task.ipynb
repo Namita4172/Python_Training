{
 "cells": [
  {
   "cell_type": "code",
   "execution_count": 3,
   "id": "5c67306a",
   "metadata": {},
   "outputs": [
    {
     "data": {
      "text/plain": [
       "dict"
      ]
     },
     "execution_count": 3,
     "metadata": {},
     "output_type": "execute_result"
    }
   ],
   "source": [
    "# Introduction to the dictionary data type - data stored in key:value pair where key works as an index\n",
    "#Define dictionary type variable\n",
    "\n",
    "alien = {'color':'green','points':5}\n",
    "type(alien)\n",
    "\n"
   ]
  },
  {
   "cell_type": "code",
   "execution_count": 4,
   "id": "a981b2a7",
   "metadata": {},
   "outputs": [
    {
     "name": "stdout",
     "output_type": "stream",
     "text": [
      "{'color': 'green', 'points': 5}\n"
     ]
    }
   ],
   "source": [
    "print(alien)\n"
   ]
  },
  {
   "cell_type": "raw",
   "id": "94209629",
   "metadata": {},
   "source": []
  },
  {
   "cell_type": "raw",
   "id": "9110a268",
   "metadata": {},
   "source": []
  },
  {
   "cell_type": "code",
   "execution_count": 7,
   "id": "82302ade",
   "metadata": {},
   "outputs": [
    {
     "name": "stdout",
     "output_type": "stream",
     "text": [
      "green\n"
     ]
    }
   ],
   "source": [
    "#Access the elements of dict by using key as an index.\n",
    "\n",
    "print(alien['color'])"
   ]
  },
  {
   "cell_type": "code",
   "execution_count": 8,
   "id": "4918bf7d",
   "metadata": {},
   "outputs": [
    {
     "ename": "KeyError",
     "evalue": "'green'",
     "output_type": "error",
     "traceback": [
      "\u001b[1;31m---------------------------------------------------------------------------\u001b[0m",
      "\u001b[1;31mKeyError\u001b[0m                                  Traceback (most recent call last)",
      "\u001b[1;32m<ipython-input-8-54e4fa5b5cf9>\u001b[0m in \u001b[0;36m<module>\u001b[1;34m\u001b[0m\n\u001b[0;32m      1\u001b[0m \u001b[1;31m#can not use value as an index to get key- it gives key error.\u001b[0m\u001b[1;33m\u001b[0m\u001b[1;33m\u001b[0m\u001b[1;33m\u001b[0m\u001b[0m\n\u001b[1;32m----> 2\u001b[1;33m \u001b[0mprint\u001b[0m\u001b[1;33m(\u001b[0m\u001b[0malien\u001b[0m\u001b[1;33m[\u001b[0m\u001b[1;34m'green'\u001b[0m\u001b[1;33m]\u001b[0m\u001b[1;33m)\u001b[0m\u001b[1;33m\u001b[0m\u001b[1;33m\u001b[0m\u001b[0m\n\u001b[0m",
      "\u001b[1;31mKeyError\u001b[0m: 'green'"
     ]
    }
   ],
   "source": [
    "#can not use value as an index to get key- it gives key error.\n",
    "print(alien['green'])"
   ]
  },
  {
   "cell_type": "code",
   "execution_count": 9,
   "id": "80c734dc",
   "metadata": {},
   "outputs": [
    {
     "name": "stdout",
     "output_type": "stream",
     "text": [
      "{'color': 'green', 'points': 5, 'starting_pt': 10}\n"
     ]
    }
   ],
   "source": [
    "#add the new key:value pair in dictionary\n",
    "#add starting_point as 10\n",
    "alien['starting_pt'] = 10\n",
    "print(alien)"
   ]
  },
  {
   "cell_type": "code",
   "execution_count": 10,
   "id": "2cb067af",
   "metadata": {},
   "outputs": [
    {
     "name": "stdout",
     "output_type": "stream",
     "text": [
      "{'color': 'red', 'points': 5, 'starting_pt': 10}\n"
     ]
    }
   ],
   "source": [
    "# Modify the value of a particular key in dict\n",
    "# change color to red.\n",
    "alien['color'] = 'red'\n",
    "print(alien)"
   ]
  },
  {
   "cell_type": "code",
   "execution_count": 11,
   "id": "7d5ffb54",
   "metadata": {},
   "outputs": [
    {
     "name": "stdout",
     "output_type": "stream",
     "text": [
      "{'color': 'red', 'points': 1, 'starting_pt': 10}\n"
     ]
    }
   ],
   "source": [
    "#keys can not be duplicate in the dict as it is used as an index.\n",
    "#However it does not give error and update the new value the existing record\n",
    "\n",
    "alien['points'] = 1\n",
    "print(alien)"
   ]
  },
  {
   "cell_type": "code",
   "execution_count": 12,
   "id": "99ca2771",
   "metadata": {},
   "outputs": [
    {
     "name": "stdout",
     "output_type": "stream",
     "text": [
      "{'color': 'red', 'points': 1}\n"
     ]
    }
   ],
   "source": [
    "#delete member from dictionary\n",
    "\n",
    "del alien['starting_pt']\n",
    "print(alien)"
   ]
  },
  {
   "cell_type": "code",
   "execution_count": 14,
   "id": "ba42c2a0",
   "metadata": {},
   "outputs": [
    {
     "name": "stdout",
     "output_type": "stream",
     "text": [
      "Key: color\n",
      "Value: red\n",
      "\n",
      "Key: points\n",
      "Value: 1\n",
      "\n"
     ]
    }
   ],
   "source": [
    "#for loop implementation in dict\n",
    "#as  dict has pair of key/value so two temp var required.\n",
    "#items() fetch the pair of key/value from dict\n",
    "\n",
    "for temp1,temp2 in alien.items():\n",
    "    print(f\"Key: {temp1}\"); print(f\"Value: {temp2}\\n\")"
   ]
  },
  {
   "cell_type": "code",
   "execution_count": 15,
   "id": "0055120f",
   "metadata": {},
   "outputs": [
    {
     "name": "stdout",
     "output_type": "stream",
     "text": [
      "Key: color\n",
      "Key: points\n"
     ]
    }
   ],
   "source": [
    "#acces only keys from dict- one temp var required\n",
    "#keys() fetch all keys from dict\n",
    "\n",
    "for temp1 in alien.keys():\n",
    "    print(f\"Key: {temp1}\")"
   ]
  },
  {
   "cell_type": "code",
   "execution_count": 16,
   "id": "fe56b5f1",
   "metadata": {},
   "outputs": [
    {
     "name": "stdout",
     "output_type": "stream",
     "text": [
      "Values: red\n",
      "Values: 1\n"
     ]
    }
   ],
   "source": [
    "#acces only values from dict- one temp var required\n",
    "#values() fetch all keys from dict\n",
    "\n",
    "for temp1 in alien.values():\n",
    "    print(f\"Values: {temp1}\")"
   ]
  },
  {
   "cell_type": "code",
   "execution_count": null,
   "id": "26b0eeed",
   "metadata": {},
   "outputs": [],
   "source": []
  }
 ],
 "metadata": {
  "kernelspec": {
   "display_name": "Python 3",
   "language": "python",
   "name": "python3"
  },
  "language_info": {
   "codemirror_mode": {
    "name": "ipython",
    "version": 3
   },
   "file_extension": ".py",
   "mimetype": "text/x-python",
   "name": "python",
   "nbconvert_exporter": "python",
   "pygments_lexer": "ipython3",
   "version": "3.8.8"
  }
 },
 "nbformat": 4,
 "nbformat_minor": 5
}
