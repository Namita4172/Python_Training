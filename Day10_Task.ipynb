{
 "cells": [
  {
   "cell_type": "code",
   "execution_count": null,
   "id": "bb8f39cf",
   "metadata": {},
   "outputs": [],
   "source": []
  },
  {
   "cell_type": "code",
   "execution_count": null,
   "id": "5117c39c",
   "metadata": {},
   "outputs": [],
   "source": []
  },
  {
   "cell_type": "markdown",
   "id": "0a89c1a5",
   "metadata": {},
   "source": []
  },
  {
   "cell_type": "code",
   "execution_count": 6,
   "id": "032d2f6c",
   "metadata": {},
   "outputs": [
    {
     "name": "stdout",
     "output_type": "stream",
     "text": [
      "Hello Everyone\n",
      "Hello Everyone\n"
     ]
    }
   ],
   "source": [
    "#Introduction to functions:- used for code reusablity\n",
    "\n",
    "#for function defination, def keyword is used. function name usually given in small case letters.\n",
    "\n",
    "#create a function to greet everyone.\n",
    "\n",
    "def greet_user():\n",
    "    \"\"\" function defination for greet everyone\"\"\" #doc string for explaining function purpose\n",
    "    print(\"Hello Everyone\")\n",
    "\n",
    "#function call\n",
    "\n",
    "greet_user()\n",
    "greet_user()\n",
    "\n"
   ]
  },
  {
   "cell_type": "code",
   "execution_count": 7,
   "id": "dee8dbb2",
   "metadata": {},
   "outputs": [
    {
     "name": "stdout",
     "output_type": "stream",
     "text": [
      "Hello , Namita\n",
      "Hello , Palak\n"
     ]
    }
   ],
   "source": [
    "#passing values to the function.\n",
    "#in function defination , values passed are called passing parameters\n",
    "#in function call , values passed are called passing arguments\n",
    "\n",
    "def greet_user(user_name):\n",
    "    \"\"\" function defination for greet specific user\"\"\" #doc string for explaining function purpose\n",
    "    print(f\"Hello , {user_name.title()}\")\n",
    "\n",
    "#function call\n",
    "\n",
    "greet_user('namita')\n",
    "greet_user('palak')"
   ]
  },
  {
   "cell_type": "code",
   "execution_count": 9,
   "id": "4accc781",
   "metadata": {},
   "outputs": [
    {
     "name": "stdout",
     "output_type": "stream",
     "text": [
      "I have a cat\n",
      "Its name is lucy\n",
      "I have a dog\n",
      "Its name is reno\n"
     ]
    }
   ],
   "source": [
    "#Types of arguments\n",
    "\n",
    "def describe_pet(animal_type,pet_name):\n",
    "    \"\"\"function defination to describe pet animal\"\"\"\n",
    "    print(f\"I have a {animal_type}\")\n",
    "    print(f\"Its name is {pet_name}\")\n",
    "    \n",
    "#functon call \n",
    "describe_pet('cat','lucy')\n",
    "describe_pet('dog','reno')"
   ]
  },
  {
   "cell_type": "code",
   "execution_count": 10,
   "id": "f41092d2",
   "metadata": {},
   "outputs": [
    {
     "name": "stdout",
     "output_type": "stream",
     "text": [
      "I have a Mitthu\n",
      "Its name is parrot\n"
     ]
    }
   ],
   "source": [
    "#Arguments passing sequence should match with parameters in function defination\n",
    "#otherwise it gives incorrect answer.\n",
    "\n",
    "describe_pet('Mitthu','parrot')"
   ]
  },
  {
   "cell_type": "code",
   "execution_count": null,
   "id": "a59a0774",
   "metadata": {},
   "outputs": [],
   "source": []
  },
  {
   "cell_type": "code",
   "execution_count": 11,
   "id": "0e1da3a0",
   "metadata": {},
   "outputs": [
    {
     "name": "stdout",
     "output_type": "stream",
     "text": [
      "I have a peacock\n",
      "Its name is peeko\n"
     ]
    }
   ],
   "source": [
    "#To correct it, function call should have parmeters with keywords (explicit call)\n",
    "#This type of argument is called keyword arguments\n",
    "describe_pet(pet_name='peeko',animal_type = 'peacock')"
   ]
  },
  {
   "cell_type": "code",
   "execution_count": 12,
   "id": "06902b91",
   "metadata": {},
   "outputs": [
    {
     "ename": "TypeError",
     "evalue": "describe_pet() missing 1 required positional argument: 'pet_name'",
     "output_type": "error",
     "traceback": [
      "\u001b[1;31m---------------------------------------------------------------------------\u001b[0m",
      "\u001b[1;31mTypeError\u001b[0m                                 Traceback (most recent call last)",
      "\u001b[1;32m<ipython-input-12-15469dc40376>\u001b[0m in \u001b[0;36m<module>\u001b[1;34m\u001b[0m\n\u001b[0;32m      1\u001b[0m \u001b[1;31m#No of arguments should match with number of parameters, otherwise it gives error\u001b[0m\u001b[1;33m\u001b[0m\u001b[1;33m\u001b[0m\u001b[1;33m\u001b[0m\u001b[0m\n\u001b[0;32m      2\u001b[0m \u001b[1;33m\u001b[0m\u001b[0m\n\u001b[1;32m----> 3\u001b[1;33m \u001b[0mdescribe_pet\u001b[0m\u001b[1;33m(\u001b[0m\u001b[1;34m'bruno'\u001b[0m\u001b[1;33m)\u001b[0m\u001b[1;33m\u001b[0m\u001b[1;33m\u001b[0m\u001b[0m\n\u001b[0m",
      "\u001b[1;31mTypeError\u001b[0m: describe_pet() missing 1 required positional argument: 'pet_name'"
     ]
    }
   ],
   "source": [
    "#No of arguments should match with number of parameters, otherwise it gives error\n",
    "\n",
    "describe_pet('bruno')"
   ]
  },
  {
   "cell_type": "code",
   "execution_count": 15,
   "id": "575a6b76",
   "metadata": {},
   "outputs": [
    {
     "ename": "SyntaxError",
     "evalue": "non-default argument follows default argument (<ipython-input-15-9fc1d6a2a0b2>, line 6)",
     "output_type": "error",
     "traceback": [
      "\u001b[1;36m  File \u001b[1;32m\"<ipython-input-15-9fc1d6a2a0b2>\"\u001b[1;36m, line \u001b[1;32m6\u001b[0m\n\u001b[1;33m    def describe_pet(animal_type='dog', pet_name):\u001b[0m\n\u001b[1;37m                     ^\u001b[0m\n\u001b[1;31mSyntaxError\u001b[0m\u001b[1;31m:\u001b[0m non-default argument follows default argument\n"
     ]
    }
   ],
   "source": [
    "#If any argument value is unknown, and requirement is to set its default value\n",
    "#In function defination, default value of parameter is set.\n",
    "#here requirement is if animal_type is unknown then bydefault take it as a 'dog'.\n",
    "\n",
    "#default parameters must be given after all non-default parameters, otherwise it gives error\n",
    "\n",
    "def describe_pet(animal_type='dog', pet_name):\n",
    "    \"\"\"function defination to describe pet animal\"\"\"\n",
    "    print(f\"I have a {animal_type}\")\n",
    "    print(f\"Its name is {pet_name}\")\n",
    "    \n",
    "#functon call \n",
    "describe_pet('Robi')"
   ]
  },
  {
   "cell_type": "code",
   "execution_count": 17,
   "id": "799259d0",
   "metadata": {},
   "outputs": [
    {
     "name": "stdout",
     "output_type": "stream",
     "text": [
      "I have a dog\n",
      "Its name is Robi\n",
      "I have a fish\n",
      "Its name is Gold\n"
     ]
    }
   ],
   "source": [
    "#default parameters must be given after all non-default parameters, otherwise it gives error\n",
    "#This type of arguments is called default arguments. Here animal_type is default argument.\n",
    "#If both arguments are passed in function call, default value is not used.\n",
    "# default value is used only when argument is not passed for that parameter.\n",
    "\n",
    "def describe_pet(pet_name,animal_type='dog'):\n",
    "    \"\"\"function defination to describe pet animal\"\"\"\n",
    "    print(f\"I have a {animal_type}\")\n",
    "    print(f\"Its name is {pet_name}\")\n",
    "    \n",
    "#functon call \n",
    "describe_pet('Robi')\n",
    "describe_pet('Gold', 'fish' )\n"
   ]
  },
  {
   "cell_type": "code",
   "execution_count": null,
   "id": "f787fad6",
   "metadata": {},
   "outputs": [],
   "source": [
    "#"
   ]
  }
 ],
 "metadata": {
  "kernelspec": {
   "display_name": "Python 3",
   "language": "python",
   "name": "python3"
  },
  "language_info": {
   "codemirror_mode": {
    "name": "ipython",
    "version": 3
   },
   "file_extension": ".py",
   "mimetype": "text/x-python",
   "name": "python",
   "nbconvert_exporter": "python",
   "pygments_lexer": "ipython3",
   "version": "3.8.8"
  }
 },
 "nbformat": 4,
 "nbformat_minor": 5
}
