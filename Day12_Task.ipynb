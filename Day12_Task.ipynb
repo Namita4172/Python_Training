{
 "cells": [
  {
   "cell_type": "code",
   "execution_count": null,
   "id": "06aaab79",
   "metadata": {},
   "outputs": [],
   "source": [
    "#Introduction to constructors- constructor are special method to initialize the attributes. \n",
    "#It invoked at the time of creating attributes.\n",
    "#defining a constructor- def  __init__(para1, para2 ,...):"
   ]
  },
  {
   "cell_type": "code",
   "execution_count": 8,
   "id": "c4b54a60",
   "metadata": {},
   "outputs": [
    {
     "name": "stdout",
     "output_type": "stream",
     "text": [
      "  Employee Detail\n",
      "\tName = Namita\n",
      "\tEmployee Id = 11098\n",
      "\tDesignation = Developer\n",
      "\tYear of joining = 2009\n",
      "\tTotal Years in company = 12\n",
      "  Employee Detail\n",
      "\tName = Palak\n",
      "\tEmployee Id = 12054\n",
      "\tDesignation = Manager\n",
      "\tYear of joining = 2019\n",
      "\tTotal Years in company = 2\n"
     ]
    }
   ],
   "source": [
    "#Define an employee class.\n",
    "#define a constructor to assign attributes like Name, EmpId, Designation,Year of Joining.\n",
    "# define a method to calculate Year of experience.\n",
    "#define a method display detail to print all attributes \n",
    "\n",
    "class Employee:\n",
    "    \"\"\" define class for employee detail\"\"\"\n",
    "    \n",
    "    def __init__(self, name, empid, desgn, yoj):\n",
    "        \"\"\" constructor for Employee class\"\"\"\n",
    "        self.name = name\n",
    "        self.empid = empid\n",
    "        self.desgn = desgn\n",
    "        self.yoj = yoj\n",
    "    \n",
    "    def cal_expyr(self):\n",
    "        \"\"\"method to calculate total year in company till 2021 from Year of joining\"\"\"\n",
    "        self.expyr = 2021 - self.yoj\n",
    "    \n",
    "    def disp_det(self):\n",
    "        \"\"\"method to display details of employee\"\"\"\n",
    "        \n",
    "        print(\"  Employee Detail\")\n",
    "        print(f\"\\tName = {self.name}\\n\\tEmployee Id = {self.empid}\\n\\tDesignation = {self.desgn}\\n\\tYear of joining = {self.yoj}\")\n",
    "        print(f\"\\tTotal Years in company = {self.expyr}\")\n",
    "\n",
    "        \n",
    "# creating first object\n",
    "\n",
    "emp1 = Employee(\"Namita\", 11098, \"Developer\", 2009)\n",
    "emp1.cal_expyr()\n",
    "emp1.disp_det()\n",
    "\n",
    "\n",
    "# creating second object\n",
    "\n",
    "emp2 = Employee(\"Palak\", 12054, \"Manager\", 2019)\n",
    "emp2.cal_expyr()\n",
    "emp2.disp_det()\n",
    "\n",
    "        "
   ]
  },
  {
   "cell_type": "code",
   "execution_count": null,
   "id": "ec0fa9ec",
   "metadata": {},
   "outputs": [],
   "source": []
  }
 ],
 "metadata": {
  "kernelspec": {
   "display_name": "Python 3",
   "language": "python",
   "name": "python3"
  },
  "language_info": {
   "codemirror_mode": {
    "name": "ipython",
    "version": 3
   },
   "file_extension": ".py",
   "mimetype": "text/x-python",
   "name": "python",
   "nbconvert_exporter": "python",
   "pygments_lexer": "ipython3",
   "version": "3.8.8"
  }
 },
 "nbformat": 4,
 "nbformat_minor": 5
}
