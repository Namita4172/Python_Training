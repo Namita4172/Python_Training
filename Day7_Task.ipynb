{
 "cells": [
  {
   "cell_type": "code",
   "execution_count": 1,
   "id": "68d9bbb4",
   "metadata": {},
   "outputs": [
    {
     "name": "stdout",
     "output_type": "stream",
     "text": [
      "['maruti', 'kia', 'bmw', 'audi', 'seltos', 'zen']\n",
      "Maruti\n",
      "Kia\n",
      "BMW\n",
      "Audi\n",
      "Seltos\n",
      "Zen\n"
     ]
    }
   ],
   "source": [
    "#Introduction to conditional statements:- If Else is used for conditional statements\n",
    "\n",
    "\n",
    "cars_data =['maruti','kia','bmw','audi','seltos','zen']\n",
    "print(cars_data)\n",
    "# write all the cars name in title case except 'BMW' in upper case.\n",
    "for car in cars_data:\n",
    "    if car=='bmw':\n",
    "        print(car.upper())\n",
    "    else:\n",
    "        print(car.title())\n"
   ]
  },
  {
   "cell_type": "code",
   "execution_count": 2,
   "id": "f5aa423b",
   "metadata": {},
   "outputs": [
    {
     "name": "stdout",
     "output_type": "stream",
     "text": [
      "Please enter your nameNamita\n",
      "Namita\n"
     ]
    }
   ],
   "source": [
    "#taking the user input - input()\n",
    "\n",
    "message = input(\"Please enter your name\")\n",
    "print(message)"
   ]
  },
  {
   "cell_type": "code",
   "execution_count": 3,
   "id": "1a28d438",
   "metadata": {},
   "outputs": [
    {
     "name": "stdout",
     "output_type": "stream",
     "text": [
      "Please enter your nameNamita\n",
      "Welcome to Python world, Namita\n"
     ]
    }
   ],
   "source": [
    "message = input(\"Please enter your name\")\n",
    "print(f\"Welcome to Python world, {message}\")"
   ]
  },
  {
   "cell_type": "code",
   "execution_count": 4,
   "id": "b3bf3d22",
   "metadata": {},
   "outputs": [
    {
     "name": "stdout",
     "output_type": "stream",
     "text": [
      "Please enter your age20\n"
     ]
    },
    {
     "data": {
      "text/plain": [
       "str"
      ]
     },
     "execution_count": 4,
     "metadata": {},
     "output_type": "execute_result"
    }
   ],
   "source": [
    "#by default input() take the text as a string\n",
    "\n",
    "age= input(\"Please enter your age\")\n",
    "type(age)"
   ]
  },
  {
   "cell_type": "code",
   "execution_count": 5,
   "id": "3adad653",
   "metadata": {},
   "outputs": [
    {
     "ename": "TypeError",
     "evalue": "'>' not supported between instances of 'str' and 'int'",
     "output_type": "error",
     "traceback": [
      "\u001b[1;31m---------------------------------------------------------------------------\u001b[0m",
      "\u001b[1;31mTypeError\u001b[0m                                 Traceback (most recent call last)",
      "\u001b[1;32m<ipython-input-5-dad95375165f>\u001b[0m in \u001b[0;36m<module>\u001b[1;34m\u001b[0m\n\u001b[0;32m      1\u001b[0m \u001b[1;31m#when compare this input with a num it will give error\u001b[0m\u001b[1;33m\u001b[0m\u001b[1;33m\u001b[0m\u001b[1;33m\u001b[0m\u001b[0m\n\u001b[1;32m----> 2\u001b[1;33m \u001b[0mage\u001b[0m\u001b[1;33m>\u001b[0m\u001b[1;36m18\u001b[0m\u001b[1;33m\u001b[0m\u001b[1;33m\u001b[0m\u001b[0m\n\u001b[0m",
      "\u001b[1;31mTypeError\u001b[0m: '>' not supported between instances of 'str' and 'int'"
     ]
    }
   ],
   "source": [
    "#when compare this input with a num it will give error\n",
    "age>18"
   ]
  },
  {
   "cell_type": "code",
   "execution_count": 6,
   "id": "6c2e9418",
   "metadata": {},
   "outputs": [
    {
     "name": "stdout",
     "output_type": "stream",
     "text": [
      "Please enter your age24\n"
     ]
    },
    {
     "data": {
      "text/plain": [
       "int"
      ]
     },
     "execution_count": 6,
     "metadata": {},
     "output_type": "execute_result"
    }
   ],
   "source": [
    "#To compare with a number , need to typecast it as an int\n",
    "\n",
    "age= input(\"Please enter your age\")\n",
    "type(age)\n"
   ]
  },
  {
   "cell_type": "code",
   "execution_count": 7,
   "id": "9f62341a",
   "metadata": {},
   "outputs": [
    {
     "name": "stdout",
     "output_type": "stream",
     "text": [
      "Please enter your age23\n"
     ]
    },
    {
     "data": {
      "text/plain": [
       "str"
      ]
     },
     "execution_count": 7,
     "metadata": {},
     "output_type": "execute_result"
    }
   ],
   "source": [
    "age= input(\"Please enter your age\")\n",
    "type(age)\n"
   ]
  },
  {
   "cell_type": "code",
   "execution_count": 8,
   "id": "3ec52c08",
   "metadata": {},
   "outputs": [
    {
     "data": {
      "text/plain": [
       "int"
      ]
     },
     "execution_count": 8,
     "metadata": {},
     "output_type": "execute_result"
    }
   ],
   "source": [
    "age=int(age)\n",
    "type(age)\n"
   ]
  },
  {
   "cell_type": "code",
   "execution_count": 9,
   "id": "42b7ffda",
   "metadata": {},
   "outputs": [
    {
     "data": {
      "text/plain": [
       "True"
      ]
     },
     "execution_count": 9,
     "metadata": {},
     "output_type": "execute_result"
    }
   ],
   "source": [
    "age>18"
   ]
  },
  {
   "cell_type": "code",
   "execution_count": 12,
   "id": "06553163",
   "metadata": {},
   "outputs": [
    {
     "name": "stdout",
     "output_type": "stream",
     "text": [
      "Please enter your age35\n",
      "You can cast your vote\n"
     ]
    }
   ],
   "source": [
    "#Accept the age as an input from user and validate the age for voting\n",
    "age= int(input(\"Please enter your age\"))\n",
    "if age>= 18:\n",
    "    print(\"You can cast your vote\")\n",
    "else:\n",
    "    print(\"You can not cast your vote\")"
   ]
  },
  {
   "cell_type": "code",
   "execution_count": null,
   "id": "c58d4b4f",
   "metadata": {},
   "outputs": [],
   "source": []
  }
 ],
 "metadata": {
  "kernelspec": {
   "display_name": "Python 3",
   "language": "python",
   "name": "python3"
  },
  "language_info": {
   "codemirror_mode": {
    "name": "ipython",
    "version": 3
   },
   "file_extension": ".py",
   "mimetype": "text/x-python",
   "name": "python",
   "nbconvert_exporter": "python",
   "pygments_lexer": "ipython3",
   "version": "3.8.8"
  }
 },
 "nbformat": 4,
 "nbformat_minor": 5
}
