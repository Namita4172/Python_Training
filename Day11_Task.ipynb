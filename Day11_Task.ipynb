{
 "cells": [
  {
   "cell_type": "code",
   "execution_count": null,
   "id": "48832a3d",
   "metadata": {
    "scrolled": true
   },
   "outputs": [],
   "source": [
    "#Introduction to classes:-OOPS concept(Object oriented programming structure)\n",
    "#Define a class - class is a blueprint of program. Class keyword is used to define it.\n",
    "#Define a method inside a class - Methods are the function defined inside a class. Similar to function, it is defined using def.\n",
    "#Attribute - variables used inside a class.\n",
    "#Self- temporary placeholder for an object.\n",
    "#object - variable of type class."
   ]
  },
  {
   "cell_type": "code",
   "execution_count": 13,
   "id": "f9861af4",
   "metadata": {},
   "outputs": [
    {
     "name": "stdout",
     "output_type": "stream",
     "text": [
      "Student Record\n",
      " Name = Namita\n",
      " Age= 35\n",
      " Marks = 92\n",
      " Grade= = A+\n",
      "Student Record\n",
      " Name = Divisha\n",
      " Age= 36\n",
      " Marks = 50\n",
      " Grade= = D\n"
     ]
    }
   ],
   "source": [
    "#req - to define a class Student_record\n",
    "#following methods should be defined inside the class\n",
    "#1. assign_det - assign Student details (Name, age, marks) to the attributes\n",
    "#2. calculate_grade - calculate grade of Student depending upon the marks.\n",
    "#3. display_det - Print student detail.\n",
    "\n",
    "\n",
    "class Student_record:\n",
    "    \"\"\"Creating a Student Detail class\"\"\"\n",
    "    def assign_det(self, name, age, marks):\n",
    "        \"\"\"defining a method to assign passed student details to attributes\"\"\"\n",
    "        self.name = name\n",
    "        self.age = age\n",
    "        self.marks = marks\n",
    "        \n",
    "    def calculate_grade(self):\n",
    "        \"\"\"defining a method to calculate grade on the basis of marks\"\"\"\n",
    "        if self.marks >= 90:\n",
    "            self.grade = 'A+'\n",
    "        elif self.marks >= 80:\n",
    "            self.grade = 'A'\n",
    "        elif self.marks >= 70:\n",
    "            self.grade = 'B'\n",
    "        elif self.marks >= 60:\n",
    "            self.grade = 'C'\n",
    "        elif self.marks >= 35:\n",
    "            self.grade = 'D'\n",
    "        else:\n",
    "            self.grade = 'F'\n",
    "            \n",
    "    def display_det(self):\n",
    "        \"\"\"defining a method to display student details \"\"\"\n",
    "        print(f\"Student Record\\n Name = {self.name}\\n Age= {self.age}\\n Marks = {self.marks}\\n Grade= = {self.grade}\")\n",
    "        \n",
    "# creating  object of Student_record      \n",
    "student1 = Student_record()\n",
    "student1.assign_det(\"Namita\",35,92)\n",
    "student1.calculate_grade()\n",
    "student1.display_det()\n",
    "\n",
    "# create another object\n",
    "student1 = Student_record()\n",
    "student1.assign_det(\"Divisha\",36,50)\n",
    "student1.calculate_grade()\n",
    "student1.display_det()\n"
   ]
  },
  {
   "cell_type": "code",
   "execution_count": null,
   "id": "a13892b2",
   "metadata": {},
   "outputs": [],
   "source": []
  },
  {
   "cell_type": "code",
   "execution_count": null,
   "id": "dc3dcc11",
   "metadata": {},
   "outputs": [],
   "source": []
  }
 ],
 "metadata": {
  "kernelspec": {
   "display_name": "Python 3",
   "language": "python",
   "name": "python3"
  },
  "language_info": {
   "codemirror_mode": {
    "name": "ipython",
    "version": 3
   },
   "file_extension": ".py",
   "mimetype": "text/x-python",
   "name": "python",
   "nbconvert_exporter": "python",
   "pygments_lexer": "ipython3",
   "version": "3.8.8"
  }
 },
 "nbformat": 4,
 "nbformat_minor": 5
}
